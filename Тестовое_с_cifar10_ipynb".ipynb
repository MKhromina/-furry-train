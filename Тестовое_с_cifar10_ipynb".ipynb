{
  "nbformat": 4,
  "nbformat_minor": 0,
  "metadata": {
    "colab": {
      "name": "Тестовое с cifar10.ipynb\"",
      "provenance": [],
      "include_colab_link": true
    },
    "kernelspec": {
      "name": "python3",
      "display_name": "Python 3"
    },
    "accelerator": "GPU"
  },
  "cells": [
    {
      "cell_type": "markdown",
      "metadata": {
        "id": "view-in-github",
        "colab_type": "text"
      },
      "source": [
        "<a href=\"https://colab.research.google.com/github/MKhromina/-furry-train/blob/master/%D0%A2%D0%B5%D1%81%D1%82%D0%BE%D0%B2%D0%BE%D0%B5_%D1%81_cifar10_ipynb%22.ipynb\" target=\"_parent\"><img src=\"https://colab.research.google.com/assets/colab-badge.svg\" alt=\"Open In Colab\"/></a>"
      ]
    },
    {
      "cell_type": "markdown",
      "metadata": {
        "id": "FqR3u_i9aIN_"
      },
      "source": [
        "# *Импорт библиотек*"
      ]
    },
    {
      "cell_type": "code",
      "metadata": {
        "id": "dFf0t5jfNxUQ"
      },
      "source": [
        "import numpy as np\n",
        "import tensorflow as tf\n",
        "from keras.datasets import cifar10\n",
        "from keras.models import Sequential\n",
        "from keras.layers import Dense, Flatten\n",
        "from keras.layers import Dropout\n",
        "from keras.layers.convolutional import Conv2D, MaxPooling2D\n",
        "from keras.utils import np_utils\n",
        "from keras.preprocessing import image\n",
        "import matplotlib.pyplot as plt\n",
        "%matplotlib inline \n",
        "from tensorflow import keras"
      ],
      "execution_count": 1,
      "outputs": []
    },
    {
      "cell_type": "markdown",
      "metadata": {
        "id": "9T_k_Fdgz_Bv"
      },
      "source": [
        "Для выполнения задачи выбрала набор CIFAR-10"
      ]
    },
    {
      "cell_type": "code",
      "metadata": {
        "id": "PfEKaHglj2VL"
      },
      "source": [
        "# Размер мини-выборки\n",
        "batch_size =128\n",
        "# Количество классов изображений\n",
        "nb_classes = 10\n",
        "# Количество эпох для обучения\n",
        "nb_epoch = 100\n",
        "# Размер изображений\n",
        "img_rows, img_cols = 32, 32\n",
        "# Количество каналов в изображении: RGB\n",
        "img_channels = 3\n",
        "# Названия классов из набора данных CIFAR-10\n",
        "classes=['самолет', 'автомобиль', 'птица', 'кот', 'олень', 'собака', 'лягушка', 'лошадь', 'корабль', 'грузовик']"
      ],
      "execution_count": 2,
      "outputs": []
    },
    {
      "cell_type": "markdown",
      "metadata": {
        "id": "kzQx_ZOZDNYV"
      },
      "source": [
        "**Загрузка данных**"
      ]
    },
    {
      "cell_type": "code",
      "metadata": {
        "id": "ARLcknFUj4Oc"
      },
      "source": [
        "(X_train, y_train), (X_test, y_test) = cifar10.load_data()"
      ],
      "execution_count": 3,
      "outputs": []
    },
    {
      "cell_type": "markdown",
      "metadata": {
        "id": "2kyCZJECE5Vu"
      },
      "source": [
        "**Нормализация данных**"
      ]
    },
    {
      "cell_type": "code",
      "metadata": {
        "id": "C33r-0yNkJUA"
      },
      "source": [
        "X_train = X_train.astype('float32')\n",
        "X_test = X_test.astype('float32')\n",
        "X_train /= 255\n",
        "X_test /= 255"
      ],
      "execution_count": 4,
      "outputs": []
    },
    {
      "cell_type": "markdown",
      "metadata": {
        "id": "qj07Mr7CE9Zt"
      },
      "source": [
        "**Преобразуем отклик в формат one hot encoding**"
      ]
    },
    {
      "cell_type": "code",
      "metadata": {
        "id": "VHzeTThQFEs1"
      },
      "source": [
        "Y_train = np_utils.to_categorical(y_train, nb_classes)\n",
        "Y_test = np_utils.to_categorical(y_test, nb_classes)"
      ],
      "execution_count": 5,
      "outputs": []
    },
    {
      "cell_type": "markdown",
      "metadata": {
        "id": "mnT8h77PFLXu"
      },
      "source": [
        "## Создаем сверточную нейронную сеть"
      ]
    },
    {
      "cell_type": "markdown",
      "metadata": {
        "id": "B3-FoN-101hG"
      },
      "source": [
        "Выбрала сверточные нейронне сети, так как считаю, что это одна из аиболее подхрдящих архитектур для обработки изображений, т.к сверточные нейронные сети обладают локальным восприятием, разделяемыми весами, а также сверточные нейронные сети спосрбны распозновать объект на изображении вне зависимости от его масштаба "
      ]
    },
    {
      "cell_type": "code",
      "metadata": {
        "id": "U0MLXRCqkPGC"
      },
      "source": [
        "# Создаем последовательную модель\n",
        "model = Sequential([\n",
        "                     keras.layers.Conv2D(32, 2, 2,activation =\"relu\", padding =\"same\", input_shape=(32, 32, 3), ), # Первый сверточный слой\n",
        "                     keras.layers.Conv2D(32, (3, 3), activation=\"relu\", padding=\"same\"), # Второй сверточный слой\n",
        "                     keras.layers.MaxPooling2D(pool_size=(2, 2)), # Первый слой подвыборки\n",
        "                     keras.layers.Dropout(0.25), # Слой регуляризации Dropout\n",
        "                     keras.layers.Conv2D(32, (2, 2), padding='same', activation='relu'), # Третий сверточный слой\n",
        "                     keras.layers.Conv2D(32, (2, 2), padding='same', activation='relu'), # Четвертый сверточный слой\n",
        "                     keras.layers.MaxPooling2D(pool_size=(2, 2)), # Второй слой подвыборки\n",
        "                     keras.layers.Dropout(0.3), # Слой регуляризации Dropout\n",
        "                     keras.layers.Flatten(), # Слой преобразования данных из 2D представления в плоское\n",
        "                     keras.layers.Dense(512, activation='relu'), # Полносвязный слой для классификации\n",
        "                     keras.layers.Dropout(0.5), # Слой регуляризации Dropout\n",
        "                     keras.layers.Dense(10,  activation=\"softmax\") # Выходной слой \n",
        "                     ])"
      ],
      "execution_count": 6,
      "outputs": []
    },
    {
      "cell_type": "markdown",
      "metadata": {
        "id": "iZ8E1aF0FS1s"
      },
      "source": [
        "**Компилируем модель**"
      ]
    },
    {
      "cell_type": "code",
      "metadata": {
        "id": "VyVlJMdGkrv-"
      },
      "source": [
        "model2.compile(loss=\"categorical_crossentropy\",\n",
        "              optimizer=\"adam\",\n",
        "              metrics=[\"accuracy\"])"
      ],
      "execution_count": 14,
      "outputs": []
    },
    {
      "cell_type": "markdown",
      "metadata": {
        "id": "Aq23si1YFYhF"
      },
      "source": [
        "## Обучаем нейронную сеть"
      ]
    },
    {
      "cell_type": "code",
      "metadata": {
        "id": "kyH5Ec9RkznF",
        "outputId": "4cd99e77-c737-4e53-f6f7-8022845d8d3c",
        "colab": {
          "base_uri": "https://localhost:8080/"
        }
      },
      "source": [
        "history = model.fit(X_train, Y_train,\n",
        "              batch_size=batch_size,\n",
        "              epochs=nb_epoch,\n",
        "              validation_split=0.1,\n",
        "              shuffle=True,\n",
        "              verbose=2)"
      ],
      "execution_count": 15,
      "outputs": [
        {
          "output_type": "stream",
          "text": [
            "Epoch 1/100\n",
            "352/352 - 3s - loss: 0.6180 - accuracy: 0.7773 - val_loss: 0.6473 - val_accuracy: 0.7806\n",
            "Epoch 2/100\n",
            "352/352 - 3s - loss: 0.6085 - accuracy: 0.7843 - val_loss: 0.6396 - val_accuracy: 0.7834\n",
            "Epoch 3/100\n",
            "352/352 - 3s - loss: 0.6188 - accuracy: 0.7796 - val_loss: 0.6506 - val_accuracy: 0.7778\n",
            "Epoch 4/100\n",
            "352/352 - 3s - loss: 0.6166 - accuracy: 0.7802 - val_loss: 0.6604 - val_accuracy: 0.7764\n",
            "Epoch 5/100\n",
            "352/352 - 3s - loss: 0.6136 - accuracy: 0.7807 - val_loss: 0.6622 - val_accuracy: 0.7784\n",
            "Epoch 6/100\n",
            "352/352 - 3s - loss: 0.6198 - accuracy: 0.7776 - val_loss: 0.6617 - val_accuracy: 0.7788\n",
            "Epoch 7/100\n",
            "352/352 - 3s - loss: 0.6185 - accuracy: 0.7797 - val_loss: 0.6490 - val_accuracy: 0.7830\n",
            "Epoch 8/100\n",
            "352/352 - 3s - loss: 0.6052 - accuracy: 0.7825 - val_loss: 0.6525 - val_accuracy: 0.7796\n",
            "Epoch 9/100\n",
            "352/352 - 3s - loss: 0.6090 - accuracy: 0.7806 - val_loss: 0.6456 - val_accuracy: 0.7818\n",
            "Epoch 10/100\n",
            "352/352 - 3s - loss: 0.6053 - accuracy: 0.7846 - val_loss: 0.6493 - val_accuracy: 0.7808\n",
            "Epoch 11/100\n",
            "352/352 - 3s - loss: 0.6094 - accuracy: 0.7842 - val_loss: 0.6586 - val_accuracy: 0.7816\n",
            "Epoch 12/100\n",
            "352/352 - 3s - loss: 0.6084 - accuracy: 0.7847 - val_loss: 0.6516 - val_accuracy: 0.7832\n",
            "Epoch 13/100\n",
            "352/352 - 3s - loss: 0.6030 - accuracy: 0.7863 - val_loss: 0.6606 - val_accuracy: 0.7812\n",
            "Epoch 14/100\n",
            "352/352 - 3s - loss: 0.6023 - accuracy: 0.7835 - val_loss: 0.6518 - val_accuracy: 0.7792\n",
            "Epoch 15/100\n",
            "352/352 - 3s - loss: 0.6093 - accuracy: 0.7814 - val_loss: 0.6603 - val_accuracy: 0.7804\n",
            "Epoch 16/100\n",
            "352/352 - 3s - loss: 0.6007 - accuracy: 0.7849 - val_loss: 0.6420 - val_accuracy: 0.7822\n",
            "Epoch 17/100\n",
            "352/352 - 3s - loss: 0.5983 - accuracy: 0.7844 - val_loss: 0.6484 - val_accuracy: 0.7806\n",
            "Epoch 18/100\n",
            "352/352 - 3s - loss: 0.6000 - accuracy: 0.7843 - val_loss: 0.6599 - val_accuracy: 0.7774\n",
            "Epoch 19/100\n",
            "352/352 - 3s - loss: 0.6006 - accuracy: 0.7867 - val_loss: 0.6533 - val_accuracy: 0.7828\n",
            "Epoch 20/100\n",
            "352/352 - 3s - loss: 0.5974 - accuracy: 0.7863 - val_loss: 0.6566 - val_accuracy: 0.7792\n",
            "Epoch 21/100\n",
            "352/352 - 3s - loss: 0.6010 - accuracy: 0.7863 - val_loss: 0.6657 - val_accuracy: 0.7766\n",
            "Epoch 22/100\n",
            "352/352 - 3s - loss: 0.6029 - accuracy: 0.7857 - val_loss: 0.6453 - val_accuracy: 0.7834\n",
            "Epoch 23/100\n",
            "352/352 - 3s - loss: 0.5981 - accuracy: 0.7884 - val_loss: 0.6526 - val_accuracy: 0.7828\n",
            "Epoch 24/100\n",
            "352/352 - 3s - loss: 0.5950 - accuracy: 0.7889 - val_loss: 0.6479 - val_accuracy: 0.7792\n",
            "Epoch 25/100\n",
            "352/352 - 3s - loss: 0.5974 - accuracy: 0.7843 - val_loss: 0.6352 - val_accuracy: 0.7826\n",
            "Epoch 26/100\n",
            "352/352 - 3s - loss: 0.5963 - accuracy: 0.7879 - val_loss: 0.6670 - val_accuracy: 0.7762\n",
            "Epoch 27/100\n",
            "352/352 - 3s - loss: 0.5987 - accuracy: 0.7884 - val_loss: 0.6359 - val_accuracy: 0.7886\n",
            "Epoch 28/100\n",
            "352/352 - 3s - loss: 0.5957 - accuracy: 0.7872 - val_loss: 0.6540 - val_accuracy: 0.7758\n",
            "Epoch 29/100\n",
            "352/352 - 3s - loss: 0.5981 - accuracy: 0.7877 - val_loss: 0.6351 - val_accuracy: 0.7886\n",
            "Epoch 30/100\n",
            "352/352 - 3s - loss: 0.5933 - accuracy: 0.7872 - val_loss: 0.6571 - val_accuracy: 0.7796\n",
            "Epoch 31/100\n",
            "352/352 - 3s - loss: 0.5938 - accuracy: 0.7871 - val_loss: 0.6431 - val_accuracy: 0.7830\n",
            "Epoch 32/100\n",
            "352/352 - 3s - loss: 0.5929 - accuracy: 0.7863 - val_loss: 0.6559 - val_accuracy: 0.7798\n",
            "Epoch 33/100\n",
            "352/352 - 3s - loss: 0.5959 - accuracy: 0.7879 - val_loss: 0.6472 - val_accuracy: 0.7830\n",
            "Epoch 34/100\n",
            "352/352 - 3s - loss: 0.5911 - accuracy: 0.7869 - val_loss: 0.6507 - val_accuracy: 0.7812\n",
            "Epoch 35/100\n",
            "352/352 - 3s - loss: 0.5860 - accuracy: 0.7904 - val_loss: 0.6676 - val_accuracy: 0.7762\n",
            "Epoch 36/100\n",
            "352/352 - 3s - loss: 0.5898 - accuracy: 0.7904 - val_loss: 0.6462 - val_accuracy: 0.7828\n",
            "Epoch 37/100\n",
            "352/352 - 3s - loss: 0.5887 - accuracy: 0.7910 - val_loss: 0.6512 - val_accuracy: 0.7820\n",
            "Epoch 38/100\n",
            "352/352 - 3s - loss: 0.5909 - accuracy: 0.7871 - val_loss: 0.6511 - val_accuracy: 0.7774\n",
            "Epoch 39/100\n",
            "352/352 - 3s - loss: 0.5881 - accuracy: 0.7879 - val_loss: 0.6500 - val_accuracy: 0.7816\n",
            "Epoch 40/100\n",
            "352/352 - 3s - loss: 0.5896 - accuracy: 0.7897 - val_loss: 0.6401 - val_accuracy: 0.7836\n",
            "Epoch 41/100\n",
            "352/352 - 3s - loss: 0.5842 - accuracy: 0.7901 - val_loss: 0.6507 - val_accuracy: 0.7862\n",
            "Epoch 42/100\n",
            "352/352 - 3s - loss: 0.5863 - accuracy: 0.7940 - val_loss: 0.6441 - val_accuracy: 0.7844\n",
            "Epoch 43/100\n",
            "352/352 - 3s - loss: 0.5809 - accuracy: 0.7914 - val_loss: 0.6427 - val_accuracy: 0.7860\n",
            "Epoch 44/100\n",
            "352/352 - 3s - loss: 0.5795 - accuracy: 0.7914 - val_loss: 0.6483 - val_accuracy: 0.7820\n",
            "Epoch 45/100\n",
            "352/352 - 3s - loss: 0.5830 - accuracy: 0.7909 - val_loss: 0.6452 - val_accuracy: 0.7762\n",
            "Epoch 46/100\n",
            "352/352 - 3s - loss: 0.5814 - accuracy: 0.7926 - val_loss: 0.6428 - val_accuracy: 0.7864\n",
            "Epoch 47/100\n",
            "352/352 - 3s - loss: 0.5853 - accuracy: 0.7918 - val_loss: 0.6542 - val_accuracy: 0.7814\n",
            "Epoch 48/100\n",
            "352/352 - 3s - loss: 0.5887 - accuracy: 0.7896 - val_loss: 0.6484 - val_accuracy: 0.7800\n",
            "Epoch 49/100\n",
            "352/352 - 3s - loss: 0.5785 - accuracy: 0.7937 - val_loss: 0.6441 - val_accuracy: 0.7806\n",
            "Epoch 50/100\n",
            "352/352 - 3s - loss: 0.5735 - accuracy: 0.7953 - val_loss: 0.6404 - val_accuracy: 0.7868\n",
            "Epoch 51/100\n",
            "352/352 - 3s - loss: 0.5748 - accuracy: 0.7916 - val_loss: 0.6576 - val_accuracy: 0.7806\n",
            "Epoch 52/100\n",
            "352/352 - 3s - loss: 0.5783 - accuracy: 0.7935 - val_loss: 0.6280 - val_accuracy: 0.7864\n",
            "Epoch 53/100\n",
            "352/352 - 3s - loss: 0.5805 - accuracy: 0.7916 - val_loss: 0.6511 - val_accuracy: 0.7808\n",
            "Epoch 54/100\n",
            "352/352 - 3s - loss: 0.5743 - accuracy: 0.7916 - val_loss: 0.6443 - val_accuracy: 0.7816\n",
            "Epoch 55/100\n",
            "352/352 - 3s - loss: 0.5790 - accuracy: 0.7928 - val_loss: 0.6523 - val_accuracy: 0.7812\n",
            "Epoch 56/100\n",
            "352/352 - 3s - loss: 0.5711 - accuracy: 0.7942 - val_loss: 0.6500 - val_accuracy: 0.7762\n",
            "Epoch 57/100\n",
            "352/352 - 3s - loss: 0.5785 - accuracy: 0.7937 - val_loss: 0.6477 - val_accuracy: 0.7796\n",
            "Epoch 58/100\n",
            "352/352 - 3s - loss: 0.5757 - accuracy: 0.7946 - val_loss: 0.6386 - val_accuracy: 0.7802\n",
            "Epoch 59/100\n",
            "352/352 - 3s - loss: 0.5756 - accuracy: 0.7945 - val_loss: 0.6434 - val_accuracy: 0.7844\n",
            "Epoch 60/100\n",
            "352/352 - 3s - loss: 0.5725 - accuracy: 0.7970 - val_loss: 0.6581 - val_accuracy: 0.7822\n",
            "Epoch 61/100\n",
            "352/352 - 3s - loss: 0.5723 - accuracy: 0.7962 - val_loss: 0.6431 - val_accuracy: 0.7818\n",
            "Epoch 62/100\n",
            "352/352 - 3s - loss: 0.5740 - accuracy: 0.7950 - val_loss: 0.6491 - val_accuracy: 0.7788\n",
            "Epoch 63/100\n",
            "352/352 - 3s - loss: 0.5767 - accuracy: 0.7943 - val_loss: 0.6339 - val_accuracy: 0.7884\n",
            "Epoch 64/100\n",
            "352/352 - 3s - loss: 0.5757 - accuracy: 0.7935 - val_loss: 0.6604 - val_accuracy: 0.7764\n",
            "Epoch 65/100\n",
            "352/352 - 3s - loss: 0.5749 - accuracy: 0.7932 - val_loss: 0.6506 - val_accuracy: 0.7836\n",
            "Epoch 66/100\n",
            "352/352 - 3s - loss: 0.5738 - accuracy: 0.7954 - val_loss: 0.6441 - val_accuracy: 0.7868\n",
            "Epoch 67/100\n",
            "352/352 - 3s - loss: 0.5699 - accuracy: 0.7970 - val_loss: 0.6412 - val_accuracy: 0.7828\n",
            "Epoch 68/100\n",
            "352/352 - 3s - loss: 0.5630 - accuracy: 0.7991 - val_loss: 0.6435 - val_accuracy: 0.7818\n",
            "Epoch 69/100\n",
            "352/352 - 3s - loss: 0.5765 - accuracy: 0.7936 - val_loss: 0.6427 - val_accuracy: 0.7842\n",
            "Epoch 70/100\n",
            "352/352 - 3s - loss: 0.5745 - accuracy: 0.7944 - val_loss: 0.6428 - val_accuracy: 0.7836\n",
            "Epoch 71/100\n",
            "352/352 - 3s - loss: 0.5686 - accuracy: 0.7970 - val_loss: 0.6459 - val_accuracy: 0.7832\n",
            "Epoch 72/100\n",
            "352/352 - 3s - loss: 0.5640 - accuracy: 0.7984 - val_loss: 0.6466 - val_accuracy: 0.7844\n",
            "Epoch 73/100\n",
            "352/352 - 3s - loss: 0.5716 - accuracy: 0.7976 - val_loss: 0.6585 - val_accuracy: 0.7802\n",
            "Epoch 74/100\n",
            "352/352 - 3s - loss: 0.5634 - accuracy: 0.7972 - val_loss: 0.6442 - val_accuracy: 0.7848\n",
            "Epoch 75/100\n",
            "352/352 - 3s - loss: 0.5676 - accuracy: 0.7954 - val_loss: 0.6488 - val_accuracy: 0.7844\n",
            "Epoch 76/100\n",
            "352/352 - 3s - loss: 0.5649 - accuracy: 0.7964 - val_loss: 0.6693 - val_accuracy: 0.7718\n",
            "Epoch 77/100\n",
            "352/352 - 3s - loss: 0.5636 - accuracy: 0.7972 - val_loss: 0.6505 - val_accuracy: 0.7862\n",
            "Epoch 78/100\n",
            "352/352 - 3s - loss: 0.5672 - accuracy: 0.7951 - val_loss: 0.6385 - val_accuracy: 0.7838\n",
            "Epoch 79/100\n",
            "352/352 - 3s - loss: 0.5626 - accuracy: 0.7986 - val_loss: 0.6461 - val_accuracy: 0.7840\n",
            "Epoch 80/100\n",
            "352/352 - 3s - loss: 0.5685 - accuracy: 0.7963 - val_loss: 0.6489 - val_accuracy: 0.7850\n",
            "Epoch 81/100\n",
            "352/352 - 3s - loss: 0.5668 - accuracy: 0.7990 - val_loss: 0.6514 - val_accuracy: 0.7842\n",
            "Epoch 82/100\n",
            "352/352 - 3s - loss: 0.5601 - accuracy: 0.8007 - val_loss: 0.6498 - val_accuracy: 0.7840\n",
            "Epoch 83/100\n",
            "352/352 - 3s - loss: 0.5600 - accuracy: 0.8004 - val_loss: 0.6410 - val_accuracy: 0.7840\n",
            "Epoch 84/100\n",
            "352/352 - 3s - loss: 0.5581 - accuracy: 0.7977 - val_loss: 0.6519 - val_accuracy: 0.7808\n",
            "Epoch 85/100\n",
            "352/352 - 3s - loss: 0.5627 - accuracy: 0.7971 - val_loss: 0.6385 - val_accuracy: 0.7834\n",
            "Epoch 86/100\n",
            "352/352 - 3s - loss: 0.5601 - accuracy: 0.7995 - val_loss: 0.6463 - val_accuracy: 0.7814\n",
            "Epoch 87/100\n",
            "352/352 - 3s - loss: 0.5619 - accuracy: 0.7982 - val_loss: 0.6413 - val_accuracy: 0.7862\n",
            "Epoch 88/100\n",
            "352/352 - 3s - loss: 0.5536 - accuracy: 0.8032 - val_loss: 0.6337 - val_accuracy: 0.7868\n",
            "Epoch 89/100\n",
            "352/352 - 3s - loss: 0.5562 - accuracy: 0.7994 - val_loss: 0.6413 - val_accuracy: 0.7872\n",
            "Epoch 90/100\n",
            "352/352 - 3s - loss: 0.5525 - accuracy: 0.8029 - val_loss: 0.6345 - val_accuracy: 0.7864\n",
            "Epoch 91/100\n",
            "352/352 - 3s - loss: 0.5619 - accuracy: 0.7987 - val_loss: 0.6470 - val_accuracy: 0.7804\n",
            "Epoch 92/100\n",
            "352/352 - 3s - loss: 0.5553 - accuracy: 0.8008 - val_loss: 0.6515 - val_accuracy: 0.7798\n",
            "Epoch 93/100\n",
            "352/352 - 3s - loss: 0.5681 - accuracy: 0.7978 - val_loss: 0.6560 - val_accuracy: 0.7772\n",
            "Epoch 94/100\n",
            "352/352 - 3s - loss: 0.5570 - accuracy: 0.8018 - val_loss: 0.6361 - val_accuracy: 0.7878\n",
            "Epoch 95/100\n",
            "352/352 - 3s - loss: 0.5599 - accuracy: 0.7986 - val_loss: 0.6331 - val_accuracy: 0.7914\n",
            "Epoch 96/100\n",
            "352/352 - 3s - loss: 0.5598 - accuracy: 0.7977 - val_loss: 0.6390 - val_accuracy: 0.7816\n",
            "Epoch 97/100\n",
            "352/352 - 3s - loss: 0.5592 - accuracy: 0.7999 - val_loss: 0.6393 - val_accuracy: 0.7884\n",
            "Epoch 98/100\n",
            "352/352 - 3s - loss: 0.5597 - accuracy: 0.7988 - val_loss: 0.6476 - val_accuracy: 0.7792\n",
            "Epoch 99/100\n",
            "352/352 - 3s - loss: 0.5581 - accuracy: 0.8018 - val_loss: 0.6483 - val_accuracy: 0.7808\n",
            "Epoch 100/100\n",
            "352/352 - 3s - loss: 0.5588 - accuracy: 0.8014 - val_loss: 0.6396 - val_accuracy: 0.7854\n"
          ],
          "name": "stdout"
        }
      ]
    },
    {
      "cell_type": "markdown",
      "metadata": {
        "id": "hBCmSlqqFgvd"
      },
      "source": [
        "**Печатаем информацию о сети**"
      ]
    },
    {
      "cell_type": "code",
      "metadata": {
        "id": "QwTq8WR1Frx9",
        "outputId": "926b2d8d-f396-41a7-c601-8c6b31b845ee",
        "colab": {
          "base_uri": "https://localhost:8080/"
        }
      },
      "source": [
        "print(model.summary())"
      ],
      "execution_count": 16,
      "outputs": [
        {
          "output_type": "stream",
          "text": [
            "Model: \"sequential\"\n",
            "_________________________________________________________________\n",
            "Layer (type)                 Output Shape              Param #   \n",
            "=================================================================\n",
            "conv2d (Conv2D)              (None, 16, 16, 32)        416       \n",
            "_________________________________________________________________\n",
            "conv2d_1 (Conv2D)            (None, 16, 16, 32)        9248      \n",
            "_________________________________________________________________\n",
            "max_pooling2d (MaxPooling2D) (None, 8, 8, 32)          0         \n",
            "_________________________________________________________________\n",
            "dropout (Dropout)            (None, 8, 8, 32)          0         \n",
            "_________________________________________________________________\n",
            "conv2d_2 (Conv2D)            (None, 8, 8, 32)          4128      \n",
            "_________________________________________________________________\n",
            "conv2d_3 (Conv2D)            (None, 8, 8, 32)          4128      \n",
            "_________________________________________________________________\n",
            "max_pooling2d_1 (MaxPooling2 (None, 4, 4, 32)          0         \n",
            "_________________________________________________________________\n",
            "dropout_1 (Dropout)          (None, 4, 4, 32)          0         \n",
            "_________________________________________________________________\n",
            "flatten (Flatten)            (None, 512)               0         \n",
            "_________________________________________________________________\n",
            "dense (Dense)                (None, 512)               262656    \n",
            "_________________________________________________________________\n",
            "dropout_2 (Dropout)          (None, 512)               0         \n",
            "_________________________________________________________________\n",
            "dense_1 (Dense)              (None, 10)                5130      \n",
            "=================================================================\n",
            "Total params: 285,706\n",
            "Trainable params: 285,706\n",
            "Non-trainable params: 0\n",
            "_________________________________________________________________\n",
            "None\n"
          ],
          "name": "stdout"
        }
      ]
    },
    {
      "cell_type": "markdown",
      "metadata": {
        "id": "bHssPqMqF9sv"
      },
      "source": [
        "**Оцениваем качетсво обучения сети**"
      ]
    },
    {
      "cell_type": "code",
      "metadata": {
        "id": "5y4AHwlNou5y",
        "outputId": "f22655e1-b04d-4985-da72-dfe619cd7c0b",
        "colab": {
          "base_uri": "https://localhost:8080/"
        }
      },
      "source": [
        "# Оцениваем качество обучения модели на тестовых данных\n",
        "scores = model.evaluate(X_test, Y_test, verbose=0)\n",
        "print(\"Точность работы на тестовых данных: %.2f%%\" % (scores[1]*100))"
      ],
      "execution_count": 17,
      "outputs": [
        {
          "output_type": "stream",
          "text": [
            "Точность работы на тестовых данных: 77.45%\n"
          ],
          "name": "stdout"
        }
      ]
    },
    {
      "cell_type": "code",
      "metadata": {
        "id": "Z_xxp2UrNJvz",
        "outputId": "e8cf2a7f-5d00-4488-da65-8bf221d9b43b",
        "colab": {
          "base_uri": "https://localhost:8080/",
          "height": 278
        }
      },
      "source": [
        "history_dict = history.history\n",
        "acc_values = history_dict[\"accuracy\"]\n",
        "val_acc_values = history_dict[\"val_accuracy\"]\n",
        "epochs = range(1, len(acc_values) + 1)\n",
        "plt.plot(epochs, acc_values, \"bo\", label=\"Training acc\")\n",
        "plt.plot(epochs, val_acc_values, \"b\", label=\"Validation acc\")\n",
        "plt.xlabel(\"Epochs\")\n",
        "plt.ylabel(\"Accuracy\")\n",
        "plt.legend()\n",
        "plt.show()"
      ],
      "execution_count": 18,
      "outputs": [
        {
          "output_type": "display_data",
          "data": {
            "image/png": "[encoded data removed]",
            "text/plain": [
              "<Figure size 432x288 with 1 Axes>"
            ]
          },
          "metadata": {
            "tags": [],
            "needs_background": "light"
          }
        }
      ]
    },
    {
      "cell_type": "markdown",
      "metadata": {
        "id": "1Pydnv01f3ev"
      },
      "source": [
        "# Полносвязная модель"
      ]
    },
    {
      "cell_type": "markdown",
      "metadata": {
        "id": "o_7oPVlL2YdV"
      },
      "source": [
        "Полносвязная нейронная сеть редко используется для обработки изображений. Существенными её недостатком является то, что на вход изображения подаются в виде плоского массива из-за чего теряется топологическая информация"
      ]
    },
    {
      "cell_type": "code",
      "metadata": {
        "id": "cUc0UMSlf2oQ"
      },
      "source": [
        "\n",
        "model2 = Sequential([\n",
        "                     keras.layers.Flatten(input_shape=(32,32,3)),\n",
        "                     keras.layers.Dense(600,  activation=\"relu\"),\n",
        "                     keras.layers.Dense(10,  activation=\"softmax\")\n",
        "])\n"
      ],
      "execution_count": 19,
      "outputs": []
    },
    {
      "cell_type": "code",
      "metadata": {
        "id": "095cOvIi7ICe"
      },
      "source": [
        "model2.compile(loss=\"categorical_crossentropy\",\n",
        "              optimizer=\"adam\",\n",
        "              metrics=[\"accuracy\"])"
      ],
      "execution_count": 20,
      "outputs": []
    },
    {
      "cell_type": "code",
      "metadata": {
        "id": "ixNNKqocgHGu",
        "outputId": "79fe8839-6cb9-4287-893f-5aec28656439",
        "colab": {
          "base_uri": "https://localhost:8080/"
        }
      },
      "source": [
        "history2 =model2.fit(X_train, Y_train,\n",
        "              batch_size=batch_size,\n",
        "              epochs=nb_epoch,\n",
        "              validation_split=0.1,\n",
        "              shuffle=True,\n",
        "              verbose=2)"
      ],
      "execution_count": 21,
      "outputs": [
        {
          "output_type": "stream",
          "text": [
            "Epoch 1/100\n",
            "352/352 - 2s - loss: 1.9797 - accuracy: 0.3180 - val_loss: 1.8347 - val_accuracy: 0.3276\n",
            "Epoch 2/100\n",
            "352/352 - 2s - loss: 1.7218 - accuracy: 0.3871 - val_loss: 1.6863 - val_accuracy: 0.4012\n",
            "Epoch 3/100\n",
            "352/352 - 2s - loss: 1.6506 - accuracy: 0.4134 - val_loss: 1.6664 - val_accuracy: 0.4018\n",
            "Epoch 4/100\n",
            "352/352 - 2s - loss: 1.6022 - accuracy: 0.4345 - val_loss: 1.6004 - val_accuracy: 0.4430\n",
            "Epoch 5/100\n",
            "352/352 - 2s - loss: 1.5571 - accuracy: 0.4475 - val_loss: 1.5754 - val_accuracy: 0.4444\n",
            "Epoch 6/100\n",
            "352/352 - 2s - loss: 1.5380 - accuracy: 0.4562 - val_loss: 1.5323 - val_accuracy: 0.4576\n",
            "Epoch 7/100\n",
            "352/352 - 2s - loss: 1.5053 - accuracy: 0.4686 - val_loss: 1.5659 - val_accuracy: 0.4502\n",
            "Epoch 8/100\n",
            "352/352 - 2s - loss: 1.4788 - accuracy: 0.4772 - val_loss: 1.5795 - val_accuracy: 0.4454\n",
            "Epoch 9/100\n",
            "352/352 - 2s - loss: 1.4650 - accuracy: 0.4803 - val_loss: 1.5297 - val_accuracy: 0.4592\n",
            "Epoch 10/100\n",
            "352/352 - 2s - loss: 1.4460 - accuracy: 0.4873 - val_loss: 1.4960 - val_accuracy: 0.4784\n",
            "Epoch 11/100\n",
            "352/352 - 2s - loss: 1.4192 - accuracy: 0.4981 - val_loss: 1.4796 - val_accuracy: 0.4774\n",
            "Epoch 12/100\n",
            "352/352 - 2s - loss: 1.4147 - accuracy: 0.5000 - val_loss: 1.5141 - val_accuracy: 0.4686\n",
            "Epoch 13/100\n",
            "352/352 - 2s - loss: 1.3921 - accuracy: 0.5062 - val_loss: 1.4790 - val_accuracy: 0.4828\n",
            "Epoch 14/100\n",
            "352/352 - 2s - loss: 1.3756 - accuracy: 0.5127 - val_loss: 1.5316 - val_accuracy: 0.4656\n",
            "Epoch 15/100\n",
            "352/352 - 2s - loss: 1.3737 - accuracy: 0.5134 - val_loss: 1.4930 - val_accuracy: 0.4820\n",
            "Epoch 16/100\n",
            "352/352 - 2s - loss: 1.3587 - accuracy: 0.5177 - val_loss: 1.4863 - val_accuracy: 0.4696\n",
            "Epoch 17/100\n",
            "352/352 - 2s - loss: 1.3435 - accuracy: 0.5247 - val_loss: 1.4347 - val_accuracy: 0.5042\n",
            "Epoch 18/100\n",
            "352/352 - 2s - loss: 1.3368 - accuracy: 0.5289 - val_loss: 1.4976 - val_accuracy: 0.4866\n",
            "Epoch 19/100\n",
            "352/352 - 2s - loss: 1.3258 - accuracy: 0.5309 - val_loss: 1.4253 - val_accuracy: 0.5054\n",
            "Epoch 20/100\n",
            "352/352 - 2s - loss: 1.3138 - accuracy: 0.5351 - val_loss: 1.4257 - val_accuracy: 0.5058\n",
            "Epoch 21/100\n",
            "352/352 - 2s - loss: 1.3065 - accuracy: 0.5382 - val_loss: 1.4376 - val_accuracy: 0.5006\n",
            "Epoch 22/100\n",
            "352/352 - 2s - loss: 1.2973 - accuracy: 0.5440 - val_loss: 1.4636 - val_accuracy: 0.4894\n",
            "Epoch 23/100\n",
            "352/352 - 2s - loss: 1.2899 - accuracy: 0.5451 - val_loss: 1.4674 - val_accuracy: 0.4790\n",
            "Epoch 24/100\n",
            "352/352 - 2s - loss: 1.2824 - accuracy: 0.5473 - val_loss: 1.4436 - val_accuracy: 0.4986\n",
            "Epoch 25/100\n",
            "352/352 - 2s - loss: 1.2793 - accuracy: 0.5489 - val_loss: 1.4402 - val_accuracy: 0.5004\n",
            "Epoch 26/100\n",
            "352/352 - 2s - loss: 1.2622 - accuracy: 0.5528 - val_loss: 1.4525 - val_accuracy: 0.4962\n",
            "Epoch 27/100\n",
            "352/352 - 2s - loss: 1.2638 - accuracy: 0.5546 - val_loss: 1.4283 - val_accuracy: 0.5106\n",
            "Epoch 28/100\n",
            "352/352 - 2s - loss: 1.2581 - accuracy: 0.5546 - val_loss: 1.4329 - val_accuracy: 0.5030\n",
            "Epoch 29/100\n",
            "352/352 - 2s - loss: 1.2419 - accuracy: 0.5599 - val_loss: 1.4381 - val_accuracy: 0.4996\n",
            "Epoch 30/100\n",
            "352/352 - 2s - loss: 1.2403 - accuracy: 0.5622 - val_loss: 1.4558 - val_accuracy: 0.4930\n",
            "Epoch 31/100\n",
            "352/352 - 2s - loss: 1.2323 - accuracy: 0.5622 - val_loss: 1.4311 - val_accuracy: 0.5058\n",
            "Epoch 32/100\n",
            "352/352 - 2s - loss: 1.2238 - accuracy: 0.5694 - val_loss: 1.4133 - val_accuracy: 0.5168\n",
            "Epoch 33/100\n",
            "352/352 - 2s - loss: 1.2164 - accuracy: 0.5687 - val_loss: 1.3954 - val_accuracy: 0.5238\n",
            "Epoch 34/100\n",
            "352/352 - 2s - loss: 1.2118 - accuracy: 0.5736 - val_loss: 1.4236 - val_accuracy: 0.5024\n",
            "Epoch 35/100\n",
            "352/352 - 2s - loss: 1.2001 - accuracy: 0.5748 - val_loss: 1.4850 - val_accuracy: 0.4944\n",
            "Epoch 36/100\n",
            "352/352 - 2s - loss: 1.2063 - accuracy: 0.5734 - val_loss: 1.4644 - val_accuracy: 0.4964\n",
            "Epoch 37/100\n",
            "352/352 - 2s - loss: 1.1903 - accuracy: 0.5801 - val_loss: 1.4273 - val_accuracy: 0.5146\n",
            "Epoch 38/100\n",
            "352/352 - 2s - loss: 1.1884 - accuracy: 0.5788 - val_loss: 1.4212 - val_accuracy: 0.5154\n",
            "Epoch 39/100\n",
            "352/352 - 2s - loss: 1.1840 - accuracy: 0.5795 - val_loss: 1.4752 - val_accuracy: 0.4968\n",
            "Epoch 40/100\n",
            "352/352 - 2s - loss: 1.1713 - accuracy: 0.5845 - val_loss: 1.4788 - val_accuracy: 0.5026\n",
            "Epoch 41/100\n",
            "352/352 - 2s - loss: 1.1746 - accuracy: 0.5848 - val_loss: 1.4245 - val_accuracy: 0.5150\n",
            "Epoch 42/100\n",
            "352/352 - 2s - loss: 1.1624 - accuracy: 0.5885 - val_loss: 1.4467 - val_accuracy: 0.5102\n",
            "Epoch 43/100\n",
            "352/352 - 2s - loss: 1.1595 - accuracy: 0.5869 - val_loss: 1.4709 - val_accuracy: 0.4976\n",
            "Epoch 44/100\n",
            "352/352 - 2s - loss: 1.1556 - accuracy: 0.5903 - val_loss: 1.4641 - val_accuracy: 0.5008\n",
            "Epoch 45/100\n",
            "352/352 - 2s - loss: 1.1511 - accuracy: 0.5928 - val_loss: 1.4245 - val_accuracy: 0.5146\n",
            "Epoch 46/100\n",
            "352/352 - 2s - loss: 1.1460 - accuracy: 0.5931 - val_loss: 1.4764 - val_accuracy: 0.5086\n",
            "Epoch 47/100\n",
            "352/352 - 2s - loss: 1.1366 - accuracy: 0.5964 - val_loss: 1.4215 - val_accuracy: 0.5178\n",
            "Epoch 48/100\n",
            "352/352 - 2s - loss: 1.1363 - accuracy: 0.5974 - val_loss: 1.4307 - val_accuracy: 0.5198\n",
            "Epoch 49/100\n",
            "352/352 - 2s - loss: 1.1339 - accuracy: 0.5992 - val_loss: 1.4281 - val_accuracy: 0.5202\n",
            "Epoch 50/100\n",
            "352/352 - 2s - loss: 1.1261 - accuracy: 0.5993 - val_loss: 1.4456 - val_accuracy: 0.5092\n",
            "Epoch 51/100\n",
            "352/352 - 2s - loss: 1.1219 - accuracy: 0.6022 - val_loss: 1.4310 - val_accuracy: 0.5136\n",
            "Epoch 52/100\n",
            "352/352 - 2s - loss: 1.1168 - accuracy: 0.6047 - val_loss: 1.5140 - val_accuracy: 0.4974\n",
            "Epoch 53/100\n",
            "352/352 - 2s - loss: 1.1182 - accuracy: 0.6019 - val_loss: 1.5091 - val_accuracy: 0.5120\n",
            "Epoch 54/100\n",
            "352/352 - 2s - loss: 1.1024 - accuracy: 0.6103 - val_loss: 1.4493 - val_accuracy: 0.5108\n",
            "Epoch 55/100\n",
            "352/352 - 2s - loss: 1.0965 - accuracy: 0.6107 - val_loss: 1.4686 - val_accuracy: 0.5160\n",
            "Epoch 56/100\n",
            "352/352 - 2s - loss: 1.0991 - accuracy: 0.6088 - val_loss: 1.5010 - val_accuracy: 0.4972\n",
            "Epoch 57/100\n",
            "352/352 - 2s - loss: 1.0951 - accuracy: 0.6122 - val_loss: 1.4779 - val_accuracy: 0.5100\n",
            "Epoch 58/100\n",
            "352/352 - 2s - loss: 1.0985 - accuracy: 0.6097 - val_loss: 1.4719 - val_accuracy: 0.5182\n",
            "Epoch 59/100\n",
            "352/352 - 2s - loss: 1.0850 - accuracy: 0.6182 - val_loss: 1.4386 - val_accuracy: 0.5216\n",
            "Epoch 60/100\n",
            "352/352 - 2s - loss: 1.0787 - accuracy: 0.6191 - val_loss: 1.4594 - val_accuracy: 0.5176\n",
            "Epoch 61/100\n",
            "352/352 - 2s - loss: 1.0758 - accuracy: 0.6184 - val_loss: 1.4677 - val_accuracy: 0.5128\n",
            "Epoch 62/100\n",
            "352/352 - 2s - loss: 1.0708 - accuracy: 0.6194 - val_loss: 1.4640 - val_accuracy: 0.5230\n",
            "Epoch 63/100\n",
            "352/352 - 2s - loss: 1.0598 - accuracy: 0.6244 - val_loss: 1.4837 - val_accuracy: 0.5160\n",
            "Epoch 64/100\n",
            "352/352 - 2s - loss: 1.0589 - accuracy: 0.6250 - val_loss: 1.5338 - val_accuracy: 0.4976\n",
            "Epoch 65/100\n",
            "352/352 - 2s - loss: 1.0615 - accuracy: 0.6229 - val_loss: 1.4697 - val_accuracy: 0.5172\n",
            "Epoch 66/100\n",
            "352/352 - 2s - loss: 1.0543 - accuracy: 0.6270 - val_loss: 1.5055 - val_accuracy: 0.5136\n",
            "Epoch 67/100\n",
            "352/352 - 2s - loss: 1.0562 - accuracy: 0.6248 - val_loss: 1.5007 - val_accuracy: 0.5108\n",
            "Epoch 68/100\n",
            "352/352 - 2s - loss: 1.0446 - accuracy: 0.6284 - val_loss: 1.5154 - val_accuracy: 0.4954\n",
            "Epoch 69/100\n",
            "352/352 - 2s - loss: 1.0439 - accuracy: 0.6287 - val_loss: 1.5053 - val_accuracy: 0.5034\n",
            "Epoch 70/100\n",
            "352/352 - 2s - loss: 1.0417 - accuracy: 0.6293 - val_loss: 1.5309 - val_accuracy: 0.4990\n",
            "Epoch 71/100\n",
            "352/352 - 2s - loss: 1.0291 - accuracy: 0.6333 - val_loss: 1.5092 - val_accuracy: 0.5194\n",
            "Epoch 72/100\n",
            "352/352 - 2s - loss: 1.0344 - accuracy: 0.6346 - val_loss: 1.5242 - val_accuracy: 0.5138\n",
            "Epoch 73/100\n",
            "352/352 - 2s - loss: 1.0310 - accuracy: 0.6350 - val_loss: 1.5660 - val_accuracy: 0.5064\n",
            "Epoch 74/100\n",
            "352/352 - 2s - loss: 1.0238 - accuracy: 0.6356 - val_loss: 1.6159 - val_accuracy: 0.4960\n",
            "Epoch 75/100\n",
            "352/352 - 2s - loss: 1.0201 - accuracy: 0.6363 - val_loss: 1.5564 - val_accuracy: 0.5046\n",
            "Epoch 76/100\n",
            "352/352 - 2s - loss: 1.0279 - accuracy: 0.6345 - val_loss: 1.5289 - val_accuracy: 0.5074\n",
            "Epoch 77/100\n",
            "352/352 - 2s - loss: 1.0080 - accuracy: 0.6412 - val_loss: 1.5478 - val_accuracy: 0.5106\n",
            "Epoch 78/100\n",
            "352/352 - 2s - loss: 1.0079 - accuracy: 0.6425 - val_loss: 1.5346 - val_accuracy: 0.5064\n",
            "Epoch 79/100\n",
            "352/352 - 2s - loss: 1.0026 - accuracy: 0.6458 - val_loss: 1.5834 - val_accuracy: 0.5006\n",
            "Epoch 80/100\n",
            "352/352 - 2s - loss: 1.0014 - accuracy: 0.6444 - val_loss: 1.5515 - val_accuracy: 0.5096\n",
            "Epoch 81/100\n",
            "352/352 - 2s - loss: 1.0068 - accuracy: 0.6433 - val_loss: 1.5521 - val_accuracy: 0.5010\n",
            "Epoch 82/100\n",
            "352/352 - 2s - loss: 1.0011 - accuracy: 0.6453 - val_loss: 1.5241 - val_accuracy: 0.5142\n",
            "Epoch 83/100\n",
            "352/352 - 2s - loss: 0.9843 - accuracy: 0.6517 - val_loss: 1.5344 - val_accuracy: 0.5128\n",
            "Epoch 84/100\n",
            "352/352 - 2s - loss: 0.9894 - accuracy: 0.6500 - val_loss: 1.5636 - val_accuracy: 0.5056\n",
            "Epoch 85/100\n",
            "352/352 - 2s - loss: 0.9898 - accuracy: 0.6460 - val_loss: 1.5956 - val_accuracy: 0.5028\n",
            "Epoch 86/100\n",
            "352/352 - 2s - loss: 0.9758 - accuracy: 0.6548 - val_loss: 1.6243 - val_accuracy: 0.5018\n",
            "Epoch 87/100\n",
            "352/352 - 2s - loss: 0.9913 - accuracy: 0.6470 - val_loss: 1.5859 - val_accuracy: 0.5052\n",
            "Epoch 88/100\n",
            "352/352 - 2s - loss: 0.9767 - accuracy: 0.6498 - val_loss: 1.6019 - val_accuracy: 0.4952\n",
            "Epoch 89/100\n",
            "352/352 - 2s - loss: 0.9759 - accuracy: 0.6543 - val_loss: 1.5906 - val_accuracy: 0.5022\n",
            "Epoch 90/100\n",
            "352/352 - 2s - loss: 0.9809 - accuracy: 0.6522 - val_loss: 1.5632 - val_accuracy: 0.5150\n",
            "Epoch 91/100\n",
            "352/352 - 2s - loss: 0.9620 - accuracy: 0.6582 - val_loss: 1.5940 - val_accuracy: 0.5008\n",
            "Epoch 92/100\n",
            "352/352 - 2s - loss: 0.9686 - accuracy: 0.6536 - val_loss: 1.6354 - val_accuracy: 0.4902\n",
            "Epoch 93/100\n",
            "352/352 - 2s - loss: 0.9508 - accuracy: 0.6639 - val_loss: 1.6114 - val_accuracy: 0.5046\n",
            "Epoch 94/100\n",
            "352/352 - 2s - loss: 0.9454 - accuracy: 0.6648 - val_loss: 1.6182 - val_accuracy: 0.4994\n",
            "Epoch 95/100\n",
            "352/352 - 2s - loss: 0.9517 - accuracy: 0.6611 - val_loss: 1.6182 - val_accuracy: 0.5112\n",
            "Epoch 96/100\n",
            "352/352 - 2s - loss: 0.9488 - accuracy: 0.6632 - val_loss: 1.6050 - val_accuracy: 0.5052\n",
            "Epoch 97/100\n",
            "352/352 - 2s - loss: 0.9486 - accuracy: 0.6629 - val_loss: 1.6212 - val_accuracy: 0.5076\n",
            "Epoch 98/100\n",
            "352/352 - 2s - loss: 0.9483 - accuracy: 0.6638 - val_loss: 1.6306 - val_accuracy: 0.5094\n",
            "Epoch 99/100\n",
            "352/352 - 2s - loss: 0.9459 - accuracy: 0.6630 - val_loss: 1.6787 - val_accuracy: 0.4924\n",
            "Epoch 100/100\n",
            "352/352 - 2s - loss: 0.9417 - accuracy: 0.6652 - val_loss: 1.6272 - val_accuracy: 0.5128\n"
          ],
          "name": "stdout"
        }
      ]
    },
    {
      "cell_type": "code",
      "metadata": {
        "id": "2yyL0UBygGAe"
      },
      "source": [
        "model2.compile(loss=\"categorical_crossentropy\", optimizer=\"adam\", metrics=[\"accuracy\"])\n",
        "\n"
      ],
      "execution_count": 22,
      "outputs": []
    },
    {
      "cell_type": "code",
      "metadata": {
        "id": "qopG2JpuwJEo",
        "outputId": "ee75a536-eb27-4dbf-a288-ce6fe282d351",
        "colab": {
          "base_uri": "https://localhost:8080/",
          "height": 278
        }
      },
      "source": [
        "history_dict2 = history2.history\n",
        "acc_values = history_dict2[\"accuracy\"]\n",
        "val_acc_values = history_dict2[\"val_accuracy\"]\n",
        "epochs = range(1, len(acc_values) + 1)\n",
        "plt.plot(epochs, acc_values, \"bo\", label=\"Training acc\")\n",
        "plt.plot(epochs, val_acc_values, \"b\", label=\"Validation acc\")\n",
        "plt.xlabel(\"Epochs\")\n",
        "plt.ylabel(\"Accuracy\")\n",
        "plt.legend()\n",
        "plt.show()"
      ],
      "execution_count": 23,
      "outputs": [
        {
          "output_type": "display_data",
          "data": {
            "image/png": "[encoded data removed]",
            "text/plain": [
              "<Figure size 432x288 with 1 Axes>"
            ]
          },
          "metadata": {
            "tags": [],
            "needs_background": "light"
          }
        }
      ]
    },
    {
      "cell_type": "markdown",
      "metadata": {
        "id": "27XOCeKb3WA-"
      },
      "source": [
        "по графикам видно, что полносвязная нейронная сеть довольно плохо справляется с задачей классификации изображений, в то время как сверточная нейронная сеть довольно хорошо справляется с этой задачей "
      ]
    }
  ]
}